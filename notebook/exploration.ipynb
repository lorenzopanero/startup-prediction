{
 "cells": [
  {
   "cell_type": "markdown",
   "id": "175b7ae5",
   "metadata": {},
   "source": [
    "# Exploration"
   ]
  },
  {
   "cell_type": "markdown",
   "id": "cec3a221",
   "metadata": {},
   "source": [
    "## Setup, EDA, Preprocessing"
   ]
  },
  {
   "cell_type": "code",
   "execution_count": null,
   "id": "2c9dd57c",
   "metadata": {
    "ExecuteTime": {
     "end_time": "2023-03-07T21:01:51.948202Z",
     "start_time": "2023-03-07T21:01:19.040412Z"
    }
   },
   "outputs": [],
   "source": [
    "import pandas as pd\n",
    "import numpy as np\n",
    "import matplotlib.pyplot as plt\n",
    "%matplotlib inline\n",
    "#import seaborn as sns\n",
    "#from datetime import datetime\n",
    "\n",
    "#from sklearn.model_selection import train_test_split, GridSearchCV, \\\n",
    "cross_val_score\n",
    "#from sklearn.impute import SimpleImputer\n",
    "#from sklearn.tree import DecisionTreeClassifier\n",
    "#from sklearn.neighbors import KNeighborsClassifier\n",
    "#from sklearn.ensemble import RandomForestClassifier, AdaBoostClassifier, \\\n",
    "#BaggingClassifier, ExtraTreesClassifier\n",
    "#from sklearn.linear_model import LogisticRegression\n",
    "#from sklearn.metrics import accuracy_score, f1_score, recall_score, \\\n",
    "#precision_score, confusion_matrix, classification_report, roc_curve, auc, \\\n",
    "#average_precision_score\n",
    "#from sklearn.preprocessing import StandardScaler, LabelEncoder, \\\n",
    "#MinMaxScaler, OneHotEncoder\n",
    "#from sklearn.pipeline import Pipeline\n",
    "#from xgboost import XGBClassifier\n",
    "#from imblearn.over_sampling import SMOTE\n",
    "\n",
    "#import warnings\n",
    "#warnings.filterwarnings('ignore')"
   ]
  },
  {
   "cell_type": "markdown",
   "id": "ecf7ad3b",
   "metadata": {},
   "source": [
    "### Load in Data"
   ]
  },
  {
   "cell_type": "code",
   "execution_count": null,
   "id": "1fc6a490",
   "metadata": {},
   "outputs": [],
   "source": [
    "df = pd.read_csv('../data/investments_VC_cleaned.csv', encoding = \"unicode_escape\")"
   ]
  },
  {
   "cell_type": "markdown",
   "id": "26548317",
   "metadata": {},
   "source": [
    "### Preprocessing & Feature Engineering"
   ]
  },
  {
   "cell_type": "code",
   "execution_count": null,
   "id": "02b38207",
   "metadata": {},
   "outputs": [
    {
     "data": {
      "text/plain": [
       "Index(['name', 'market', 'funding_total_usd', 'status', 'country_code',\n",
       "       'state_code', 'region', 'city', 'funding_rounds', 'founded_at',\n",
       "       'founded_month', 'founded_year', 'first_funding_at', 'last_funding_at',\n",
       "       'seed', 'venture', 'equity_crowdfunding', 'undisclosed',\n",
       "       'convertible_note', 'debt_financing', 'angel', 'grant',\n",
       "       'private_equity', 'product_crowdfunding', 'round_A', 'round_B',\n",
       "       'round_C', 'round_D', 'round_E', 'round_F', 'round_G', 'round_H'],\n",
       "      dtype='object')"
      ]
     },
     "metadata": {},
     "output_type": "display_data"
    }
   ],
   "source": [
    "data.columns"
   ]
  },
  {
   "cell_type": "markdown",
   "id": "c83e2eff",
   "metadata": {},
   "source": [
    "#### Missing Values"
   ]
  },
  {
   "cell_type": "markdown",
   "id": "4b770d5b",
   "metadata": {},
   "source": [
    "* I am removing rows with missing status or company name. \n",
    "* I am also dropping rows with a missing founded_year because this feature has high importance in many of the models & thus would prefer not to impute at risk of skewing the model. I tried both dropping and keeping  the missing founded_years (imputed). The proportion of companies in each status category & model results are fairly similar with & without imputing the median of year so I am comfortable dropping these rows."
   ]
  },
  {
   "cell_type": "code",
   "execution_count": null,
   "id": "6fda188e",
   "metadata": {},
   "outputs": [
    {
     "data": {
      "text/plain": [
       "name                        0\n",
       "market                   1801\n",
       "funding_total_usd           0\n",
       "status                      0\n",
       "country_code             2936\n",
       "state_code              13332\n",
       "region                   2936\n",
       "city                     3357\n",
       "funding_rounds              0\n",
       "founded_at                  0\n",
       "founded_month               0\n",
       "founded_year                0\n",
       "first_funding_at            0\n",
       "last_funding_at             0\n",
       "seed                        0\n",
       "venture                     0\n",
       "equity_crowdfunding         0\n",
       "undisclosed                 0\n",
       "convertible_note            0\n",
       "debt_financing              0\n",
       "angel                       0\n",
       "grant                       0\n",
       "private_equity              0\n",
       "product_crowdfunding        0\n",
       "round_A                     0\n",
       "round_B                     0\n",
       "round_C                     0\n",
       "round_D                     0\n",
       "round_E                     0\n",
       "round_F                     0\n",
       "round_G                     0\n",
       "round_H                     0\n",
       "dtype: int64"
      ]
     },
     "metadata": {},
     "output_type": "display_data"
    }
   ],
   "source": [
    "data = data.dropna(subset=['status', 'name', 'founded_year'])\n",
    "data.isnull().sum()"
   ]
  },
  {
   "cell_type": "code",
   "execution_count": null,
   "id": "a8d2f38b",
   "metadata": {},
   "outputs": [
    {
     "data": {
      "text/plain": [
       "37563"
      ]
     },
     "metadata": {},
     "output_type": "display_data"
    }
   ],
   "source": [
    "len(data)"
   ]
  },
  {
   "cell_type": "code",
   "execution_count": null,
   "id": "9192f099",
   "metadata": {},
   "outputs": [],
   "source": [
    "# filling categoricals\n",
    "data = data.fillna(value={'market': 'other', 'country_code': 'other', \n",
    "                          'region': 'other', 'city': 'other', \n",
    "                          'state_code': 'other'})"
   ]
  },
  {
   "cell_type": "markdown",
   "id": "c5b74049",
   "metadata": {},
   "source": [
    "### Exploratory Analysis - Full Dataset"
   ]
  },
  {
   "cell_type": "code",
   "execution_count": null,
   "id": "c614e27f",
   "metadata": {
    "ExecuteTime": {
     "end_time": "2023-03-07T21:01:52.851614Z",
     "start_time": "2023-03-07T21:01:52.847151Z"
    }
   },
   "outputs": [],
   "source": [
    "data = df"
   ]
  },
  {
   "cell_type": "code",
   "execution_count": null,
   "id": "75f84e89",
   "metadata": {
    "ExecuteTime": {
     "end_time": "2023-03-07T21:01:52.916357Z",
     "start_time": "2023-03-07T21:01:52.857089Z"
    }
   },
   "outputs": [],
   "source": [
    "print(data.info())\n",
    "data.head()"
   ]
  },
  {
   "cell_type": "code",
   "execution_count": null,
   "id": "01458eef",
   "metadata": {
    "ExecuteTime": {
     "end_time": "2023-03-07T21:01:53.029685Z",
     "start_time": "2023-03-07T21:01:52.920676Z"
    }
   },
   "outputs": [],
   "source": [
    "df.describe()"
   ]
  },
  {
   "cell_type": "code",
   "execution_count": null,
   "id": "e8d265df",
   "metadata": {
    "ExecuteTime": {
     "end_time": "2023-03-07T21:01:53.067633Z",
     "start_time": "2023-03-07T21:01:53.033334Z"
    }
   },
   "outputs": [],
   "source": [
    "data.isnull().sum()"
   ]
  },
  {
   "cell_type": "code",
   "execution_count": null,
   "id": "69b3cf7c",
   "metadata": {
    "ExecuteTime": {
     "end_time": "2023-03-07T21:01:53.080854Z",
     "start_time": "2023-03-07T21:01:53.071694Z"
    }
   },
   "outputs": [],
   "source": [
    "data['founded_at'].head()"
   ]
  },
  {
   "cell_type": "code",
   "execution_count": null,
   "id": "67c8f681",
   "metadata": {
    "ExecuteTime": {
     "end_time": "2023-03-07T21:01:53.102993Z",
     "start_time": "2023-03-07T21:01:53.085746Z"
    }
   },
   "outputs": [],
   "source": [
    "data['region'].value_counts()"
   ]
  },
  {
   "cell_type": "code",
   "execution_count": null,
   "id": "6fd88844",
   "metadata": {
    "ExecuteTime": {
     "end_time": "2023-03-07T21:01:53.122153Z",
     "start_time": "2023-03-07T21:01:53.106523Z"
    }
   },
   "outputs": [],
   "source": [
    "data['city'].value_counts()"
   ]
  },
  {
   "cell_type": "code",
   "execution_count": null,
   "id": "c7f31b6c",
   "metadata": {
    "ExecuteTime": {
     "end_time": "2023-03-07T21:01:53.142353Z",
     "start_time": "2023-03-07T21:01:53.125031Z"
    }
   },
   "outputs": [],
   "source": [
    "data['state_code'].value_counts()"
   ]
  },
  {
   "cell_type": "code",
   "execution_count": null,
   "id": "ff234b0f",
   "metadata": {
    "ExecuteTime": {
     "end_time": "2023-03-07T21:01:53.165778Z",
     "start_time": "2023-03-07T21:01:53.151967Z"
    }
   },
   "outputs": [],
   "source": [
    "data['country_code'].value_counts()"
   ]
  },
  {
   "cell_type": "code",
   "execution_count": null,
   "id": "82ad17b7",
   "metadata": {
    "ExecuteTime": {
     "end_time": "2023-03-07T21:01:53.198971Z",
     "start_time": "2023-03-07T21:01:53.171660Z"
    }
   },
   "outputs": [],
   "source": [
    "# inspecting market feature - lots of catgories\n",
    "print(\"Number of unique markets: \", len(set(data['market'])))\n",
    "print(\"Markets with more than 200 companies: \",      \n",
    "      str(sum(data['market'].value_counts() >= 200)))"
   ]
  },
  {
   "cell_type": "code",
   "execution_count": null,
   "id": "a4ee406a",
   "metadata": {
    "ExecuteTime": {
     "end_time": "2023-03-07T21:01:53.633669Z",
     "start_time": "2023-03-07T21:01:53.203712Z"
    }
   },
   "outputs": [],
   "source": [
    "fig, ax = plt.subplots(figsize = (10,10))\n",
    "data['market'].value_counts()[:30].plot(kind='barh')"
   ]
  },
  {
   "cell_type": "code",
   "execution_count": null,
   "id": "1edceedf",
   "metadata": {
    "ExecuteTime": {
     "end_time": "2023-03-07T21:01:53.661693Z",
     "start_time": "2023-03-07T21:01:53.640045Z"
    }
   },
   "outputs": [],
   "source": [
    "# same deal with region\n",
    "print(\"Number of unique regions: \", len(set(data['region'])))\n",
    "print(\"Regions with more than 200 companies: \",      \n",
    "      str(sum(data['region'].value_counts() >= 200)))"
   ]
  },
  {
   "cell_type": "code",
   "execution_count": null,
   "id": "d28f665c",
   "metadata": {
    "ExecuteTime": {
     "end_time": "2023-03-07T21:01:54.246879Z",
     "start_time": "2023-03-07T21:01:53.673613Z"
    }
   },
   "outputs": [],
   "source": [
    "fig, ax = plt.subplots(figsize = (10,10))\n",
    "data['region'].value_counts()[:30].plot(kind='barh')"
   ]
  },
  {
   "cell_type": "code",
   "execution_count": null,
   "id": "afa737db",
   "metadata": {
    "ExecuteTime": {
     "end_time": "2023-03-07T21:01:54.621454Z",
     "start_time": "2023-03-07T21:01:54.255946Z"
    }
   },
   "outputs": [],
   "source": [
    "data.hist('equity_crowdfunding', bins=40) \n",
    "# there are some very skewed columns in the funding area"
   ]
  }
 ],
 "metadata": {
  "kernelspec": {
   "display_name": ".venv",
   "language": "python",
   "name": "python3"
  },
  "language_info": {
   "codemirror_mode": {
    "name": "ipython",
    "version": 3
   },
   "file_extension": ".py",
   "mimetype": "text/x-python",
   "name": "python",
   "nbconvert_exporter": "python",
   "pygments_lexer": "ipython3",
   "version": "3.12.8"
  },
  "toc": {
   "base_numbering": 1,
   "nav_menu": {},
   "number_sections": true,
   "sideBar": true,
   "skip_h1_title": false,
   "title_cell": "Table of Contents",
   "title_sidebar": "Contents",
   "toc_cell": false,
   "toc_position": {},
   "toc_section_display": true,
   "toc_window_display": true
  }
 },
 "nbformat": 4,
 "nbformat_minor": 5
}
