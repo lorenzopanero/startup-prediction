{
 "cells": [
  {
   "cell_type": "code",
   "execution_count": null,
   "id": "3cf16ae9",
   "metadata": {},
   "outputs": [],
   "source": [
    "import pandas as pd\n",
    "import numpy as np\n",
    "import matplotlib.pyplot as plt\n",
    "%matplotlib inline"
   ]
  },
  {
   "cell_type": "code",
   "execution_count": null,
   "id": "b84c3450",
   "metadata": {},
   "outputs": [],
   "source": [
    "#df = pd.read_csv('data/investments_VC.csv', encoding = \"ISO-8859-1\")\n",
    "df = pd.read_csv('../data/investments_VC.csv', encoding = \"unicode_escape\")"
   ]
  },
  {
   "cell_type": "code",
   "execution_count": null,
   "id": "02bc45e0",
   "metadata": {},
   "outputs": [],
   "source": [
    "print(df.iloc[0])\n",
    "df.head()"
   ]
  },
  {
   "cell_type": "markdown",
   "id": "259d19c2",
   "metadata": {},
   "source": [
    "### Basic Cleaning"
   ]
  },
  {
   "cell_type": "code",
   "execution_count": null,
   "id": "be862d20",
   "metadata": {},
   "outputs": [],
   "source": [
    "# getting rid of extra spaces in market and funding_total_usd\n",
    "df = df.rename(columns={' market ': 'market', \n",
    "                        ' funding_total_usd ': 'funding_total_usd'})"
   ]
  },
  {
   "cell_type": "code",
   "execution_count": null,
   "id": "f388ec33",
   "metadata": {},
   "outputs": [],
   "source": [
    "df.columns"
   ]
  },
  {
   "cell_type": "markdown",
   "id": "e98257c7",
   "metadata": {},
   "source": [
    "Dropping irrelevant columns:"
   ]
  },
  {
   "cell_type": "code",
   "execution_count": null,
   "id": "d5d7be19",
   "metadata": {},
   "outputs": [],
   "source": [
    "df = df.drop(columns=['permalink', 'homepage_url', 'category_list', \n",
    "                          'founded_quarter', 'post_ipo_equity',  \n",
    "                          'post_ipo_debt', 'secondary_market'], \n",
    "                 axis=1)"
   ]
  },
  {
   "cell_type": "code",
   "execution_count": null,
   "id": "5637471d",
   "metadata": {},
   "outputs": [],
   "source": [
    "# converting to float\n",
    "df['funding_total_usd'][~df['funding_total_usd'].isnull()] = \\\n",
    "    [num.replace(\" \", '').replace(\",\", '').replace(\"-\", '') \\\n",
    "     for num in df['funding_total_usd'][~df['funding_total_usd'].isnull()]]\n",
    "\n",
    "df['funding_total_usd'][df['funding_total_usd']==''] = 0\n",
    "\n",
    "df['funding_total_usd'][~df['funding_total_usd'].isnull()] = \\\n",
    "[float(num) for num in df['funding_total_usd'][~df['funding_total_usd'].isnull()]]"
   ]
  },
  {
   "cell_type": "code",
   "execution_count": null,
   "id": "ff9d3e5b",
   "metadata": {},
   "outputs": [],
   "source": [
    "display(type(df['funding_total_usd'][0]))\n",
    "display(df['funding_total_usd'][0])"
   ]
  },
  {
   "cell_type": "markdown",
   "id": "8b8541d7",
   "metadata": {},
   "source": [
    "Dropping duplicates, if any:"
   ]
  },
  {
   "cell_type": "code",
   "execution_count": null,
   "id": "f3ed9209",
   "metadata": {},
   "outputs": [],
   "source": [
    "df = df.drop_duplicates()"
   ]
  },
  {
   "cell_type": "code",
   "execution_count": null,
   "id": "fd7c2599",
   "metadata": {},
   "outputs": [],
   "source": [
    "df['status'].value_counts()"
   ]
  },
  {
   "cell_type": "code",
   "execution_count": null,
   "id": "92cfbe5e",
   "metadata": {},
   "outputs": [],
   "source": [
    "#create a data file to store in data folder\n",
    "#df.to_csv('../data/investments_VC_cleaned.csv', index=False)"
   ]
  }
 ],
 "metadata": {
  "language_info": {
   "name": "python"
  }
 },
 "nbformat": 4,
 "nbformat_minor": 5
}
